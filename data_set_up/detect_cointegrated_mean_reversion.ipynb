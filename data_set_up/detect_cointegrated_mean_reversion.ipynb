{
 "cells": [
  {
   "cell_type": "code",
   "execution_count": null,
   "id": "initial_id",
   "metadata": {
    "collapsed": true
   },
   "outputs": [],
   "source": [
    "import pandas as pd\n",
    "import mysql.connector as msc\n",
    "import numpy as np\n",
    "from statsmodels.tsa import stattools as ts\n",
    "import statsmodels.api as sm\n",
    "import time_series_tests as tst\n",
    "from time_series_tests import adf_test\n",
    "import warnings\n",
    "\n",
    "db_host = 'localhost'\n",
    "db_user = 'sec_user'\n",
    "db_pass = 'Password'\n",
    "db_name = 'securities_master'\n",
    "con = msc.connect(host=db_host, user=db_user, password=db_pass, db=db_name)"
   ]
  },
  {
   "metadata": {},
   "cell_type": "code",
   "outputs": [],
   "execution_count": null,
   "source": [
    "def collect_sectors():\n",
    "    \"\"\"\n",
    "    collect_sectors() gathers all the different sectors occupied by companies in the S&P500\n",
    "    and returns a list. It collects the data from an SQL database\n",
    "    \"\"\"\n",
    "    select_str = \"\"\"select distinct securities_master.‘symbol‘.‘sector‘\n",
    "                    from securities_master.‘symbol‘ \n",
    "                    \"\"\"\n",
    "    sector_list = []\n",
    "    data = pd.read_sql(select_str, con)\n",
    "    for i in data.iloc[:, 0]:\n",
    "        sector_list.append(i)\n",
    "    return sector_list\n"
   ],
   "id": "6887919b49f4853c"
  },
  {
   "metadata": {},
   "cell_type": "code",
   "outputs": [],
   "execution_count": null,
   "source": [
    "def sector_symbol_id(sectors):\n",
    "    \"\"\"\n",
    "    this function takes a list of sectors and returns a dictionary with the sectors as the keys and\n",
    "    the symbol_ids as the values. It collects the data from an SQL database\n",
    "    \"\"\"\n",
    "    sector_symbol_dict = {}\n",
    "    for sector in sectors:\n",
    "        select_str = \"\"\"select securities_master.‘symbol‘.‘id‘\n",
    "                        from securities_master.‘symbol‘\n",
    "                        where securities_master.‘symbol‘.‘sector‘ = '%s'\n",
    "                        \"\"\" % sector\n",
    "        data = pd.read_sql(select_str, con)\n",
    "        sector_symbol_dict[sector] = []\n",
    "        for i in data.iloc[:, 0]:\n",
    "            sector_symbol_dict[sector].append(i)\n",
    "    return sector_symbol_dict\n"
   ],
   "id": "22b4cfe07a252298"
  },
  {
   "metadata": {},
   "cell_type": "code",
   "outputs": [],
   "execution_count": null,
   "source": [
    "def iterate_adf(sector_symbol_dict):\n",
    "    \"\"\"\n",
    "    this function takes the sector_symbol_dict and performs the adf test on all paired combinations\n",
    "    of the companies in the same sector. It returns a list of pairs of companies that satisfy the co-integrated\n",
    "    dickey-fuller test\n",
    "    \"\"\"\n",
    "    mean_reversion_list = []\n",
    "    for sector in sector_symbol_dict:\n",
    "        for i in range(0, len(sector_symbol_dict[sector])):\n",
    "            j = 1\n",
    "            while (i + j) < len(sector_symbol_dict[sector]):\n",
    "                select_str = \"\"\"select securities_master.‘daily_price‘.‘price_date‘ as date, \n",
    "                                securities_master.‘daily_price‘.‘close_price‘ as close_price‘\n",
    "                                from securities_master.‘daily_price‘\n",
    "                                where securities_master.‘daily_price‘.‘symbol_id‘ = %s\n",
    "                                \"\"\" % sector_symbol_dict[sector][i]\n",
    "                data_1 = pd.read_sql(select_str, con)\n",
    "                select_str = \"\"\"select securities_master.‘daily_price‘.‘price_date‘ as date, \n",
    "                                securities_master.‘daily_price‘.‘close_price‘ as close_price\n",
    "                                from securities_master.‘daily_price‘\n",
    "                                where securities_master.‘daily_price‘.‘symbol_id‘ = %s\n",
    "                                \"\"\" % sector_symbol_dict[sector][i+j]\n",
    "                data_2 = pd.read_sql(select_str, con)\n",
    "                df = pd.merge(data_1, data_2, how='inner', on=\"date\")\n",
    "                res = ts.OLS(endog=df.iloc[:,1], exog=sm.add_constant(df.iloc[:, 2]))\n",
    "                beta = res.fit()\n",
    "                beta_hr = beta.params.iloc[1]\n",
    "                df[\"res\"] = df.iloc[:, 1] - beta_hr * df.iloc[:, 2]\n",
    "                cadf = tst.adf_test(df['res'])\n",
    "                for item in cadf[4]:\n",
    "                    if cadf[1] < cadf[4][item]:\n",
    "                        mean_reversion_list.append('sector_symbol_dict[sector][i]-sector_symbol_dict[sector][i+j]')\n",
    "                j += 1\n",
    "    return mean_reversion_list\n"
   ],
   "id": "f24b19def1d761ad"
  },
  {
   "metadata": {},
   "cell_type": "code",
   "outputs": [],
   "execution_count": null,
   "source": [
    "if __name__ == '__main__':\n",
    "    warnings.filterwarnings('ignore')\n",
    "    # collect sectors and assign to a variable\n",
    "    sectors = collect_sectors()\n",
    "    print(sectors)\n",
    "    # make sector-symbol dictionary\n",
    "    sector_symbol_dict = sector_symbol_id(sectors)\n",
    "    print(sector_symbol_dict)\n",
    "    # perform cadf test integrations\n",
    "    mean_reversion_list = iterate_adf(sector_symbol_dict)\n",
    "    print(mean_reversion_list)"
   ],
   "id": "eb5300edaae82522"
  }
 ],
 "metadata": {
  "kernelspec": {
   "display_name": "Python 3",
   "language": "python",
   "name": "python3"
  },
  "language_info": {
   "codemirror_mode": {
    "name": "ipython",
    "version": 2
   },
   "file_extension": ".py",
   "mimetype": "text/x-python",
   "name": "python",
   "nbconvert_exporter": "python",
   "pygments_lexer": "ipython2",
   "version": "2.7.6"
  }
 },
 "nbformat": 4,
 "nbformat_minor": 5
}
